{
 "cells": [
  {
   "cell_type": "markdown",
   "id": "53f24f0a",
   "metadata": {},
   "source": [
    "## ***Navigation and Locators with CSS Selector***"
   ]
  },
  {
   "cell_type": "code",
   "execution_count": 10,
   "id": "57e7798b",
   "metadata": {},
   "outputs": [],
   "source": [
    "# Importing webdriver module from Selenium\n",
    "from selenium import webdriver\n",
    "\n",
    "# Importing Service class from chrome service module\n",
    "from selenium.webdriver.chrome.service import Service  \n",
    "\n",
    "# Importing ChromeDriverManager module from webdriver_manager.chrome\n",
    "from webdriver_manager.chrome import ChromeDriverManager  \n",
    "\n",
    " # Importing By class from Selenium webdriver.common module\n",
    "from selenium.webdriver.common.by import By \n",
    "\n",
    "# Importing Options class from Selenium webdriver.chrome module\n",
    "from selenium.webdriver.chrome.options import Options \n",
    "\n",
    "options = Options()\n",
    "\n",
    "# Adding experimental option to keep the browser open after the script ends\n",
    "options.add_experimental_option(\"detach\", True)  \n",
    "\n",
    "# Create a Service object using the installed ChromeDriver\n",
    "service = Service(ChromeDriverManager().install())\n",
    "\n",
    "# Initialize the Chrome WebDriver with the Service object and Options\n",
    "driver = webdriver.Chrome(service=service, options=options)\n",
    "\n",
    "# Open the specified URL in the browser\n",
    "driver.get(\"https://rahulshettyacademy.com/AutomationPractice/\")  \n",
    "\n"
   ]
  },
  {
   "cell_type": "code",
   "execution_count": 2,
   "id": "70d74588",
   "metadata": {},
   "outputs": [],
   "source": [
    "driver.find_element(By.ID, \"checkBoxOption1\").click()"
   ]
  },
  {
   "cell_type": "code",
   "execution_count": 3,
   "id": "6ac9bec6",
   "metadata": {},
   "outputs": [],
   "source": [
    "driver.find_element(By.NAME, \"checkBoxOption2\").click()"
   ]
  },
  {
   "cell_type": "code",
   "execution_count": 4,
   "id": "bf76bb7f",
   "metadata": {},
   "outputs": [],
   "source": [
    "driver.find_element(By.CLASS_NAME,\"radioButton\").click()"
   ]
  },
  {
   "cell_type": "code",
   "execution_count": 5,
   "id": "afee3b3d",
   "metadata": {},
   "outputs": [],
   "source": [
    "driver.find_element(By.LINK_TEXT,\"Free Access to InterviewQues/ResumeAssistance/Material\").click()"
   ]
  },
  {
   "cell_type": "code",
   "execution_count": 8,
   "id": "a9145fe2",
   "metadata": {},
   "outputs": [],
   "source": [
    "driver.find_element(By.PARTIAL_LINK_TEXT,\"Free Access to InterviewQues\").click()"
   ]
  },
  {
   "cell_type": "code",
   "execution_count": 11,
   "id": "4547dbb7",
   "metadata": {},
   "outputs": [],
   "source": [
    "driver.find_element(By.CSS_SELECTOR,\"[value=radio2]\").click()"
   ]
  },
  {
   "cell_type": "code",
   "execution_count": 12,
   "id": "5bd6e796",
   "metadata": {},
   "outputs": [],
   "source": [
    "driver.find_element(By.ID,\"opentab\").click()"
   ]
  },
  {
   "cell_type": "code",
   "execution_count": 13,
   "id": "d56cc66e",
   "metadata": {},
   "outputs": [],
   "source": [
    "driver.find_element(By.ID,\"dropdown-class-example\").click()"
   ]
  }
 ],
 "metadata": {
  "kernelspec": {
   "display_name": "Python 3 (ipykernel)",
   "language": "python",
   "name": "python3"
  },
  "language_info": {
   "codemirror_mode": {
    "name": "ipython",
    "version": 3
   },
   "file_extension": ".py",
   "mimetype": "text/x-python",
   "name": "python",
   "nbconvert_exporter": "python",
   "pygments_lexer": "ipython3",
   "version": "3.9.12"
  }
 },
 "nbformat": 4,
 "nbformat_minor": 5
}
