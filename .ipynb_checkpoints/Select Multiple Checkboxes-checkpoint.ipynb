{
 "cells": [
  {
   "cell_type": "code",
   "execution_count": 1,
   "id": "37192409-718b-4b74-9d03-db305258d981",
   "metadata": {},
   "outputs": [],
   "source": [
    "# Importing webdriver module from Selenium\n",
    "from selenium import webdriver\n",
    "\n",
    "# Importing Service class from chrome service module\n",
    "from selenium.webdriver.chrome.service import Service  \n",
    "\n",
    "# Importing ChromeDriverManager module from webdriver_manager.chrome\n",
    "from webdriver_manager.chrome import ChromeDriverManager  \n",
    "\n",
    " # Importing By class from Selenium webdriver.common module\n",
    "from selenium.webdriver.common.by import By \n",
    "\n",
    "# Importing Options class from Selenium webdriver.chrome module\n",
    "from selenium.webdriver.chrome.options import Options \n",
    "\n",
    "options = Options()\n",
    "\n",
    "# Adding experimental option to keep the browser open after the script ends\n",
    "options.add_experimental_option(\"detach\", True)  \n",
    "\n",
    "# Create a Service object using the installed ChromeDriver\n",
    "service = Service(ChromeDriverManager().install())\n",
    "\n",
    "# Initialize the Chrome WebDriver with the Service object and Options\n",
    "driver = webdriver.Chrome(service=service, options=options)\n",
    "\n",
    "# Open the specified URL in the browser\n",
    "driver.get(\"https://rahulshettyacademy.com/AutomationPractice/\")  "
   ]
  },
  {
   "cell_type": "code",
   "execution_count": 41,
   "id": "35cf4d45-257e-4167-aa31-7a0a126dcfc0",
   "metadata": {},
   "outputs": [],
   "source": [
    "check_boxes = driver.find_elements(By.XPATH,\"//input[starts-with(@name,'checkBoxOption')]\")"
   ]
  },
  {
   "cell_type": "code",
   "execution_count": 5,
   "id": "b7cca089-757f-4316-92f9-15972a5bc2fd",
   "metadata": {},
   "outputs": [
    {
     "name": "stdout",
     "output_type": "stream",
     "text": [
      "[<selenium.webdriver.remote.webelement.WebElement (session=\"b16924a9db8a4d43108bb506b68e5377\", element=\"f.EF0F0B9E89D7476A2B18AC4EE78F1A4E.d.B909F76C1154BFC7E8EF2E2BC4BBE5E9.e.9\")>, <selenium.webdriver.remote.webelement.WebElement (session=\"b16924a9db8a4d43108bb506b68e5377\", element=\"f.EF0F0B9E89D7476A2B18AC4EE78F1A4E.d.B909F76C1154BFC7E8EF2E2BC4BBE5E9.e.10\")>, <selenium.webdriver.remote.webelement.WebElement (session=\"b16924a9db8a4d43108bb506b68e5377\", element=\"f.EF0F0B9E89D7476A2B18AC4EE78F1A4E.d.B909F76C1154BFC7E8EF2E2BC4BBE5E9.e.11\")>]\n"
     ]
    }
   ],
   "source": [
    "print(check_boxes)"
   ]
  },
  {
   "cell_type": "code",
   "execution_count": 7,
   "id": "2205fb3e-f67d-46d0-8a6c-c46cab7619fa",
   "metadata": {},
   "outputs": [
    {
     "data": {
      "text/plain": [
       "3"
      ]
     },
     "execution_count": 7,
     "metadata": {},
     "output_type": "execute_result"
    }
   ],
   "source": [
    "len(check_boxes)"
   ]
  },
  {
   "cell_type": "code",
   "execution_count": 9,
   "id": "90d33a64-c157-4682-a0c2-eed4e43f6a9f",
   "metadata": {},
   "outputs": [
    {
     "data": {
      "text/plain": [
       "list"
      ]
     },
     "execution_count": 9,
     "metadata": {},
     "output_type": "execute_result"
    }
   ],
   "source": [
    "type(check_boxes)"
   ]
  },
  {
   "cell_type": "code",
   "execution_count": 21,
   "id": "47f857d7-1ec2-4b6f-be98-901d1dad33ef",
   "metadata": {},
   "outputs": [],
   "source": [
    "for check_box in check_boxes:\n",
    "    check_box.click()"
   ]
  },
  {
   "cell_type": "code",
   "execution_count": 39,
   "id": "91241140-5bca-4052-9d50-73180e504a32",
   "metadata": {},
   "outputs": [],
   "source": [
    "for check_box in check_boxes:\n",
    "    if check_boxes.index(check_box)+1 <3:\n",
    "        check_box.click()"
   ]
  },
  {
   "cell_type": "code",
   "execution_count": 43,
   "id": "d5b81a02-95c8-4b1d-aaaa-9cf5895f8106",
   "metadata": {},
   "outputs": [],
   "source": [
    "for check_box in check_boxes:\n",
    "    if check_boxes.index(check_box)+1 !=2:\n",
    "        check_box.click()"
   ]
  }
 ],
 "metadata": {
  "kernelspec": {
   "display_name": "Python 3 (ipykernel)",
   "language": "python",
   "name": "python3"
  },
  "language_info": {
   "codemirror_mode": {
    "name": "ipython",
    "version": 3
   },
   "file_extension": ".py",
   "mimetype": "text/x-python",
   "name": "python",
   "nbconvert_exporter": "python",
   "pygments_lexer": "ipython3",
   "version": "3.12.4"
  }
 },
 "nbformat": 4,
 "nbformat_minor": 5
}
