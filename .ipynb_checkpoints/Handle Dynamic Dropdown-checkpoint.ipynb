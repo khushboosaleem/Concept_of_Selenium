{
 "cells": [
  {
   "cell_type": "code",
   "execution_count": 33,
   "id": "ef44e941-482b-4c7e-a9d2-16c4151b1580",
   "metadata": {},
   "outputs": [],
   "source": [
    "# Importing webdriver module from Selenium\n",
    "from selenium import webdriver\n",
    "\n",
    "# Importing Service class from chrome service module\n",
    "from selenium.webdriver.chrome.service import Service  \n",
    "\n",
    "# Importing ChromeDriverManager module from webdriver_manager.chrome\n",
    "from webdriver_manager.chrome import ChromeDriverManager  \n",
    "\n",
    " # Importing By class from Selenium webdriver.common module\n",
    "from selenium.webdriver.common.by import By \n",
    "\n",
    "# Importing Options class from Selenium webdriver.chrome module\n",
    "from selenium.webdriver.chrome.options import Options \n",
    "\n",
    "options = Options()\n",
    "\n",
    "# Adding experimental option to keep the browser open after the script ends\n",
    "options.add_experimental_option(\"detach\", True)  \n",
    "\n",
    "# Create a Service object using the installed ChromeDriver\n",
    "service = Service(ChromeDriverManager().install())\n",
    "\n",
    "# Initialize the Chrome WebDriver with the Service object and Options\n",
    "driver = webdriver.Chrome(service=service, options=options)"
   ]
  },
  {
   "cell_type": "code",
   "execution_count": 119,
   "id": "5d51253a-33ea-4107-a016-f6a3734c8ea6",
   "metadata": {},
   "outputs": [],
   "source": [
    "# Get website\n",
    "driver.get(\"https://www.flipkart.com/\")"
   ]
  },
  {
   "cell_type": "code",
   "execution_count": 121,
   "id": "6608468f-7626-4834-852a-d85c0f9fa528",
   "metadata": {},
   "outputs": [],
   "source": [
    "# Find XPATH and then send keys on the search box\n",
    "search_box = driver.find_element(By.XPATH,\"//input[@type='text']\")\n",
    "search_box.send_keys(\"one plus headphones\")"
   ]
  },
  {
   "cell_type": "code",
   "execution_count": 123,
   "id": "69f0b855-ef2e-4467-b222-b74a24f9e73d",
   "metadata": {},
   "outputs": [],
   "source": [
    "# Get attribute\n",
    "first_option = driver.find_element(By.XPATH,\"(//form[contains(@class,'header-form-search')]//a)[1]\")"
   ]
  },
  {
   "cell_type": "code",
   "execution_count": 125,
   "id": "ff599570-728e-4cc4-b5dc-c005603074bb",
   "metadata": {},
   "outputs": [],
   "source": [
    "# And then Click \n",
    "first_option.click()"
   ]
  },
  {
   "cell_type": "code",
   "execution_count": 127,
   "id": "882f526d-3a26-455f-b383-b98a9be978cc",
   "metadata": {},
   "outputs": [
    {
     "name": "stdout",
     "output_type": "stream",
     "text": [
      "https://www.flipkart.com/search?q=one+plus+headphones+ear+buds&sid=0pm%2Cfcn%2C821%2Ca7x%2C2si&as=on&as-show=on&otracker=AS_QueryStore_HistoryAutoSuggest_1_19_na_na_na&otracker1=AS_QueryStore_HistoryAutoSuggest_1_19_na_na_na&as-pos=1&as-type=HISTORY&suggestionId=one+plus+headphones+ear+buds%7CTrue+Wireless&requestId=bba0bcd2-9ced-45c1-80a5-4c5d2dcf6942&as-searchtext=one%20plus%20headphones\n"
     ]
    }
   ],
   "source": [
    "# Display the current url \n",
    "print(driver.current_url)"
   ]
  },
  {
   "cell_type": "markdown",
   "id": "4b7b1a3d-2bfd-409d-98ab-80a6b233f67e",
   "metadata": {},
   "source": [
    "### ***Get href link and text***"
   ]
  },
  {
   "cell_type": "code",
   "execution_count": 133,
   "id": "5ef684b3-196a-48a0-a1ee-d9a42f026940",
   "metadata": {},
   "outputs": [],
   "source": [
    "# get web\n",
    "driver.get(\"https://www.flipkart.com/\")"
   ]
  },
  {
   "cell_type": "code",
   "execution_count": 139,
   "id": "b806da69-65b3-4f3b-a806-554d1a1b9d9e",
   "metadata": {},
   "outputs": [],
   "source": [
    "# find xpath and then send keys\n",
    "search_box = driver.find_element(By.XPATH,\"//input[@type='text']\")\n",
    "search_box.send_keys(\"one plus headphones\")"
   ]
  },
  {
   "cell_type": "code",
   "execution_count": 141,
   "id": "2289533e-972b-407d-a6d8-fd53fcff0820",
   "metadata": {},
   "outputs": [],
   "source": [
    "# get suggestion attribute related to which sent key type on search box\n",
    "first_option = driver.find_element(By.XPATH,\"(//form[contains(@class,'header-form-search')]//a)[1]\")"
   ]
  },
  {
   "cell_type": "code",
   "execution_count": 97,
   "id": "1f9a6988-308a-4f79-9e08-cf37018dcee1",
   "metadata": {},
   "outputs": [
    {
     "name": "stdout",
     "output_type": "stream",
     "text": [
      "link present in first option: https://www.flipkart.com/search?q=one+plus+headphones+ear+buds&sid=0pm%2Cfcn%2C821%2Ca7x%2C2si&as=on&as-show=on&otracker=AS_QueryStore_OrganicAutoSuggest_1_19_na_na_na&otracker1=AS_QueryStore_OrganicAutoSuggest_1_19_na_na_na&as-pos=1&as-type=RECENT&suggestionId=one+plus+headphones+ear+buds%7CTrue+Wireless&requestId=14bdbf51-ce2e-4902-ae95-7d18c680561a&as-searchtext=one%20plus%20headphones\n"
     ]
    }
   ],
   "source": [
    "# Get href link\n",
    "print(f\"link present in first option: {first_option.get_attribute('href')}\")"
   ]
  },
  {
   "cell_type": "code",
   "execution_count": 143,
   "id": "e5173fde-e2a3-4282-87cc-c919845eb735",
   "metadata": {},
   "outputs": [
    {
     "name": "stdout",
     "output_type": "stream",
     "text": [
      "text present in first option: one plus headphones ear buds\n",
      "in True Wireless\n"
     ]
    }
   ],
   "source": [
    "# Get Text present in first option href link\n",
    "print(f\"text present in first option: {first_option.text}\")"
   ]
  },
  {
   "cell_type": "markdown",
   "id": "a0ddb27f-655e-4f2d-b086-374d34f361e1",
   "metadata": {},
   "source": [
    "## **Get All Attribute link**"
   ]
  },
  {
   "cell_type": "code",
   "execution_count": 163,
   "id": "6fe04ec7-121e-4fba-ad09-c6fd65e765e8",
   "metadata": {},
   "outputs": [],
   "source": [
    "# get web\n",
    "driver.get(\"https://www.flipkart.com/\")"
   ]
  },
  {
   "cell_type": "code",
   "execution_count": 165,
   "id": "d6277a47-5c8f-4bf8-8045-bb248165d1fb",
   "metadata": {},
   "outputs": [],
   "source": [
    "# Find XPATH and then send keys on the search box\n",
    "search_box = driver.find_element(By.XPATH,\"//input[@type='text']\")\n",
    "search_box.send_keys(\"one plus\")"
   ]
  },
  {
   "cell_type": "code",
   "execution_count": 167,
   "id": "204b58c7-d35e-4db9-8cfb-d5a47dfe6c4d",
   "metadata": {},
   "outputs": [],
   "source": [
    "# get suggestion attribute related to which sent key type on search box\n",
    "drop_down_options = driver.find_elements(By.XPATH,\"(//form[contains(@class,'header-form-search')]//a)\")"
   ]
  },
  {
   "cell_type": "code",
   "execution_count": 169,
   "id": "8f160a18-41c9-4e75-9b4b-b249667a51b3",
   "metadata": {},
   "outputs": [
    {
     "name": "stdout",
     "output_type": "stream",
     "text": [
      "link present in 1 option: https://www.flipkart.com/search?q=one+plus+headphones+ear+buds&sid=0pm%2Cfcn%2C821%2Ca7x%2C2si&as=on&as-show=on&otracker=AS_QueryStore_HistoryAutoSuggest_1_8_na_na_na&otracker1=AS_QueryStore_HistoryAutoSuggest_1_8_na_na_na&as-pos=1&as-type=HISTORY&suggestionId=one+plus+headphones+ear+buds%7CTrue+Wireless&requestId=ea08bb81-3680-4b71-9242-5e0b3c1dfed1&as-searchtext=one%20plus\n",
      "text present in 1 option: one plus headphones ear buds\n",
      "in True Wireless\n"
     ]
    }
   ],
   "source": [
    "for index, option in enumerate(drop_down_options):\n",
    "    print(f\"link present in {index+1} option: {option.get_attribute('href')}\")\n",
    "    print(f\"text present in {index+1} option: {option.text}\")\n",
    "    if \"headphones\" in option.text:\n",
    "        option.click()\n",
    "        break\n",
    "else:\n",
    "    print(\"option headphones are not found\")"
   ]
  }
 ],
 "metadata": {
  "kernelspec": {
   "display_name": "Python 3 (ipykernel)",
   "language": "python",
   "name": "python3"
  },
  "language_info": {
   "codemirror_mode": {
    "name": "ipython",
    "version": 3
   },
   "file_extension": ".py",
   "mimetype": "text/x-python",
   "name": "python",
   "nbconvert_exporter": "python",
   "pygments_lexer": "ipython3",
   "version": "3.12.4"
  }
 },
 "nbformat": 4,
 "nbformat_minor": 5
}
