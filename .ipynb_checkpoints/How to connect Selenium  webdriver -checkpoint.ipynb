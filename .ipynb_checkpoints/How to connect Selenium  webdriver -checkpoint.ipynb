{
 "cells": [
  {
   "cell_type": "markdown",
   "id": "24cecd37",
   "metadata": {},
   "source": [
    "### ***One way to connect to the browser is through the downloaded ChromeDriver path***"
   ]
  },
  {
   "cell_type": "code",
   "execution_count": 19,
   "id": "cc90dc08",
   "metadata": {},
   "outputs": [],
   "source": [
    "# Importing the WebDriver from Selenium\n",
    "from selenium import webdriver"
   ]
  },
  {
   "cell_type": "code",
   "execution_count": 20,
   "id": "a4985932",
   "metadata": {},
   "outputs": [],
   "source": [
    "# Importing the Service class to manage the ChromeDriver service\n",
    "from selenium.webdriver.chrome.service import Service"
   ]
  },
  {
   "cell_type": "code",
   "execution_count": 21,
   "id": "9f86ba48",
   "metadata": {},
   "outputs": [],
   "source": [
    "# Initializing the Chrome WebDriver using the specified ChromeDriver executable path\n",
    "driver = webdriver.Chrome(service = Service(executable_path=r\"C:\\Users\\khuboo\\OneDrive\\Desktop\\chromedriver-win64\\chromedriver.exe\"))"
   ]
  },
  {
   "cell_type": "code",
   "execution_count": 22,
   "id": "611c6b7f",
   "metadata": {},
   "outputs": [],
   "source": [
    "# open the specified url\n",
    "driver.get(\"https://www.amazon.com/?&tag=googleglobalp-20&ref=pd_sl_7nnedyywlk_e&adgrpid=159651196451&hvpone=&hvptwo=&hvadid=675114638367&hvpos=&hvnetw=g&hvrand=11652634091129423610&hvqmt=e&hvdev=c&hvdvcmdl=&hvlocint=&hvlocphy=9077136&hvtargid=kwd-10573980&hydadcr=2246_13468515&gad_source=1\")"
   ]
  },
  {
   "cell_type": "code",
   "execution_count": 23,
   "id": "70211044",
   "metadata": {},
   "outputs": [],
   "source": [
    "# Closing the browser and ending the WebDriver session\n",
    "driver.quit()"
   ]
  },
  {
   "cell_type": "markdown",
   "id": "0865235b",
   "metadata": {},
   "source": [
    "### Another way to connect to the browser is through the WebDriver Manager."
   ]
  },
  {
   "cell_type": "code",
   "execution_count": 5,
   "id": "1beb3035",
   "metadata": {},
   "outputs": [],
   "source": [
    "# !pip install webdriver-manager"
   ]
  },
  {
   "cell_type": "code",
   "execution_count": 6,
   "id": "f1dc558f",
   "metadata": {},
   "outputs": [],
   "source": [
    "# from webdriver_manager.chrome import ChromeDriverManager\n",
    "\n",
    "# driver = webdriver.Chrome(ChromeDriverManager().install())"
   ]
  },
  {
   "cell_type": "code",
   "execution_count": 7,
   "id": "d5713a67",
   "metadata": {},
   "outputs": [],
   "source": [
    "# driver.get(\"https://www.amazon.com/?&tag=googleglobalp-20&ref=pd_sl_7nnedyywlk_e&adgrpid=159651196451&hvpone=&hvptwo=&hvadid=675114638367&hvpos=&hvnetw=g&hvrand=11652634091129423610&hvqmt=e&hvdev=c&hvdvcmdl=&hvlocint=&hvlocphy=9077136&hvtargid=kwd-10573980&hydadcr=2246_13468515&gad_source=1\")"
   ]
  }
 ],
 "metadata": {
  "kernelspec": {
   "display_name": "Python 3 (ipykernel)",
   "language": "python",
   "name": "python3"
  },
  "language_info": {
   "codemirror_mode": {
    "name": "ipython",
    "version": 3
   },
   "file_extension": ".py",
   "mimetype": "text/x-python",
   "name": "python",
   "nbconvert_exporter": "python",
   "pygments_lexer": "ipython3",
   "version": "3.9.12"
  }
 },
 "nbformat": 4,
 "nbformat_minor": 5
}
