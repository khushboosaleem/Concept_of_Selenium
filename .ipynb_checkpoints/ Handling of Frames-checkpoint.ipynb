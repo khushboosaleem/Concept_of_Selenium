{
 "cells": [
  {
   "cell_type": "code",
   "execution_count": 1,
   "id": "62d04126-8233-4fcb-9777-ce73a48d346f",
   "metadata": {},
   "outputs": [],
   "source": [
    "# Importing webdriver module from Selenium\n",
    "from selenium import webdriver\n",
    "\n",
    "# Importing Service class from chrome service module\n",
    "from selenium.webdriver.chrome.service import Service  \n",
    "\n",
    "# Importing ChromeDriverManager module from webdriver_manager.chrome\n",
    "from webdriver_manager.chrome import ChromeDriverManager  \n",
    "\n",
    " # Importing By class from Selenium webdriver.common module\n",
    "from selenium.webdriver.common.by import By \n",
    "\n",
    "# Importing Options class from Selenium webdriver.chrome module\n",
    "from selenium.webdriver.chrome.options import Options \n",
    "\n",
    "options = Options()\n",
    "\n",
    "# Adding experimental option to keep the browser open after the script ends\n",
    "options.add_experimental_option(\"detach\", True)  \n",
    "\n",
    "# Create a Service object using the installed ChromeDriver\n",
    "service = Service(ChromeDriverManager().install())\n",
    "\n",
    "# Initialize the Chrome WebDriver with the Service object and Options\n",
    "driver = webdriver.Chrome(service=service, options=options)\n",
    " \n",
    "#Import time\n",
    "import time\n",
    "\n",
    "# Open the specified URL in the browser\n",
    "driver.get(\"https://rahulshettyacademy.com/AutomationPractice/\")  \n"
   ]
  },
  {
   "cell_type": "code",
   "execution_count": 2,
   "id": "e6b20a73-89fb-421c-9d3c-e28702df598f",
   "metadata": {},
   "outputs": [],
   "source": [
    "# driver.implicity_wait(3.5)\n",
    "# from selenium.webdriver.support.wait import WebDriverWait\n",
    "# from selenium.webdriver.support import expected_conditions as EC"
   ]
  },
  {
   "cell_type": "code",
   "execution_count": 3,
   "id": "3d84f8df-0ec3-4c75-81cd-11a28ac4b407",
   "metadata": {},
   "outputs": [],
   "source": [
    "# Locate the iframe element with id 'courses-iframe'\n",
    "frame_element = driver.find_element(By.XPATH, \"//iframe[@id='courses-iframe']\")"
   ]
  },
  {
   "cell_type": "code",
   "execution_count": 4,
   "id": "234488da-0e91-4a90-bfac-21bf1b82a3fd",
   "metadata": {},
   "outputs": [],
   "source": [
    "# Switch to the iframe using the located frame element\n",
    "driver.switch_to.frame(frame_element)"
   ]
  },
  {
   "cell_type": "code",
   "execution_count": 5,
   "id": "848092d9-e527-4942-96ad-cb1f3d354527",
   "metadata": {},
   "outputs": [],
   "source": [
    "# Find and click the link with href 'consulting'\n",
    "driver.find_element(By.XPATH,\"//a[@href = 'consulting']\").click()"
   ]
  },
  {
   "cell_type": "code",
   "execution_count": 6,
   "id": "81bee3d2-5e2a-49db-98b4-4298154c7666",
   "metadata": {},
   "outputs": [],
   "source": [
    "# Switch back to the default content from the iframe\n",
    "driver.switch_to.default_content()"
   ]
  },
  {
   "cell_type": "code",
   "execution_count": 7,
   "id": "2aba134e-e69d-4204-b7dd-d0eb8c064d80",
   "metadata": {},
   "outputs": [],
   "source": [
    " # Find the input field with name 'enter-name' and enter the text 'Khushboo'\n",
    "driver.find_element(By.XPATH,\"//input[@name='enter-name']\").send_keys(\"Khushboo\")"
   ]
  }
 ],
 "metadata": {
  "kernelspec": {
   "display_name": "Python 3 (ipykernel)",
   "language": "python",
   "name": "python3"
  },
  "language_info": {
   "codemirror_mode": {
    "name": "ipython",
    "version": 3
   },
   "file_extension": ".py",
   "mimetype": "text/x-python",
   "name": "python",
   "nbconvert_exporter": "python",
   "pygments_lexer": "ipython3",
   "version": "3.12.4"
  }
 },
 "nbformat": 4,
 "nbformat_minor": 5
}
