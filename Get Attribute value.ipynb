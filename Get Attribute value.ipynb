{
 "cells": [
  {
   "cell_type": "code",
   "execution_count": 52,
   "id": "fa0ccd23-2df4-403b-8442-553140c8e162",
   "metadata": {},
   "outputs": [],
   "source": [
    "# Importing webdriver module from Selenium\n",
    "from selenium import webdriver\n",
    "\n",
    "# Importing Service class from chrome service module\n",
    "from selenium.webdriver.chrome.service import Service  \n",
    "\n",
    "# Importing ChromeDriverManager module from webdriver_manager.chrome\n",
    "from webdriver_manager.chrome import ChromeDriverManager  \n",
    "\n",
    " # Importing By class from Selenium webdriver.common module\n",
    "from selenium.webdriver.common.by import By \n",
    "\n",
    "# Importing Options class from Selenium webdriver.chrome module\n",
    "from selenium.webdriver.chrome.options import Options \n",
    "\n",
    "options = Options()\n",
    "\n",
    "# Adding experimental option to keep the browser open after the script ends\n",
    "options.add_experimental_option(\"detach\", True)  \n",
    "\n",
    "# Create a Service object using the installed ChromeDriver\n",
    "service = Service(ChromeDriverManager().install())\n",
    "\n",
    "# Initialize the Chrome WebDriver with the Service object and Options\n",
    "driver = webdriver.Chrome(service=service, options=options)\n",
    "\n",
    "# Open the specified URL in the browser\n",
    "# driver.get(\"https://rahulshettyacademy.com/AutomationPractice/\")  "
   ]
  },
  {
   "cell_type": "code",
   "execution_count": 8,
   "id": "68b10acf-51e4-4002-8d59-a3e50a28ca63",
   "metadata": {},
   "outputs": [],
   "source": [
    "blinking_link = driver.find_element(By.CLASS_NAME, \"blinkingText\")"
   ]
  },
  {
   "cell_type": "code",
   "execution_count": 12,
   "id": "7cc5514b-0840-42e4-b57c-ceca774d0778",
   "metadata": {},
   "outputs": [
    {
     "name": "stdout",
     "output_type": "stream",
     "text": [
      "https://rahulshettyacademy.com/documents-request\n"
     ]
    }
   ],
   "source": [
    "print(blinking_link.get_attribute(\"href\"))"
   ]
  },
  {
   "cell_type": "code",
   "execution_count": 54,
   "id": "ab5239e2-8b9c-4e0e-b758-6aa8ff29d8b7",
   "metadata": {},
   "outputs": [],
   "source": [
    "driver.get(\"https://www.flipkart.com/\")  "
   ]
  },
  {
   "cell_type": "code",
   "execution_count": 55,
   "id": "54943610-e36a-42fc-b0e9-1f8dc27d0422",
   "metadata": {},
   "outputs": [
    {
     "name": "stdout",
     "output_type": "stream",
     "text": [
      "Total number of deal_banners: 5\n"
     ]
    }
   ],
   "source": [
    "deal_banners = driver.find_elements(By.XPATH, \"//div[@data-clone='false']//a\")\n",
    "print(f\"Total number of deal_banners: {len(deal_banners)}\")"
   ]
  },
  {
   "cell_type": "code",
   "execution_count": 36,
   "id": "80be6e01-f9a6-42bb-97b0-b149fb87dd55",
   "metadata": {},
   "outputs": [
    {
     "name": "stdout",
     "output_type": "stream",
     "text": [
      "https://www.flipkart.com/flipkart-flagship-sale-store?param=128319\n",
      "https://www.flipkart.com/zebronics-zeb-pixaplay-24-4000-lm-remote-controller-portable-full-hd-1080p-160-inch-screen-size-auto-focus-keystone-bluetooth-wifi-hdmi-arc-usb-aux-app-support-miracast-smart-led-projector/p/itm42dd64343b28f?pid=PROH2PDKR6QYAUMW&lid=LSTPROH2PDKR6QYAUMW6WGJUU\n",
      "https://www.flipkart.com/travel/flights?param=Travel-DT-Travel-DTTravel-DT-HPW-FLYMH\n",
      "https://www.flipkart.com/travel/flights?param=Travel-DT-Travel-DT-HTravel-Travel-DT-HPW-3AIRLINES\n",
      "https://www.flipkart.com/audio-video/headset/pr?sid=0pm%2Cfcn&p%5B%5D=facets.connectivity%255B%255D%3DBluetooth&p%5B%5D=facets.rating%255B%255D%3D3%25E2%2598%2585%2B%2526%2Babove&p%5B%5D=facets.rating%255B%255D%3D4%25E2%2598%2585%2B%2526%2Babove&p%5B%5D=facets.price_range.from%3D699&p%5B%5D=facets.price_range.to%3DMax&sort=popularity&param=55\n"
     ]
    }
   ],
   "source": [
    "for deal_banner in deal_banners:\n",
    "    print(deal_banner.get_attribute(\"href\"))"
   ]
  },
  {
   "cell_type": "code",
   "execution_count": 64,
   "id": "18336821-4a43-48c4-a8c1-79911931a53a",
   "metadata": {},
   "outputs": [
    {
     "name": "stdout",
     "output_type": "stream",
     "text": [
      "<div class=\"zlQd20 \" style=\"--aspect-ratio: 211/35; --aspect-ratio-m: 211/35; --aspect-ratio-l: 211/35; flex: 1 1 0%;\"><picture><source srcset=\"https://rukminim2.flixcart.com/fk-p-flap/1600/270/image/e76f03aa6bbdedc1.jpg?q=80 1x, https://rukminim2.flixcart.com/fk-p-flap/3200/540/image/e76f03aa6bbdedc1.jpg?q=60 2x, \" media=\"(min-width: 1192px)\"><source srcset=\"https://rukminim2.flixcart.com/fk-p-flap/1000/170/image/e76f03aa6bbdedc1.jpg?q=80 1x, https://rukminim2.flixcart.com/fk-p-flap/2000/340/image/e76f03aa6bbdedc1.jpg?q=60 2x, \" media=\"(min-width: 768px) and (max-width: 1191px)\"><img loading=\"eager\" alt=\"Image\" srcset=\"https://rukminim2.flixcart.com/fk-p-flap/480/80/image/e76f03aa6bbdedc1.jpg?q=80 1x, https://rukminim2.flixcart.com/fk-p-flap/960/160/image/e76f03aa6bbdedc1.jpg?q=60 2x, \" style=\"width: 100%; margin: auto; display: block; object-fit: cover; opacity: 1; aspect-ratio: 211 / 35;\" src=\"https://rukminim2.flixcart.com/fk-p-flap/1000/170/image/e76f03aa6bbdedc1.jpg?q=90\"></picture><img src=\"https://rukminim2.flixcart.com/fk-p-flap/1000/170/image/e76f03aa6bbdedc1.jpg?q=20\" loading=\"eager\" alt=\"Image\" style=\"width: 100%; margin: auto; display: block; position: absolute; inset: 0px; padding: inherit; object-fit: cover; opacity: 0; aspect-ratio: 211 / 35;\"></div>\n"
     ]
    }
   ],
   "source": [
    "for deal_banner in deal_banners:\n",
    "    # print(deal_banner.get_attribute(\"href\"))\n",
    "    print(deal_banner.get_attribute(\"innerHTML\"))\n",
    "    # print(deal_banner.get_attribute(\"outerHTML\"))\n",
    "    break"
   ]
  }
 ],
 "metadata": {
  "kernelspec": {
   "display_name": "Python 3 (ipykernel)",
   "language": "python",
   "name": "python3"
  },
  "language_info": {
   "codemirror_mode": {
    "name": "ipython",
    "version": 3
   },
   "file_extension": ".py",
   "mimetype": "text/x-python",
   "name": "python",
   "nbconvert_exporter": "python",
   "pygments_lexer": "ipython3",
   "version": "3.12.4"
  }
 },
 "nbformat": 4,
 "nbformat_minor": 5
}
