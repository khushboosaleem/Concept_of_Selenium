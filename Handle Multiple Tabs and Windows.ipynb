{
 "cells": [
  {
   "cell_type": "code",
   "execution_count": 1,
   "id": "7974e761-8d2f-4e79-b6cc-fb43b11ece44",
   "metadata": {},
   "outputs": [],
   "source": [
    "# Importing webdriver module from Selenium\n",
    "from selenium import webdriver\n",
    "\n",
    "# Importing Service class from chrome service module\n",
    "from selenium.webdriver.chrome.service import Service  \n",
    "\n",
    "# Importing ChromeDriverManager module from webdriver_manager.chrome\n",
    "from webdriver_manager.chrome import ChromeDriverManager  \n",
    "\n",
    " # Importing By class from Selenium webdriver.common module\n",
    "from selenium.webdriver.common.by import By \n",
    "\n",
    "# Importing Options class from Selenium webdriver.chrome module\n",
    "from selenium.webdriver.chrome.options import Options \n",
    "\n",
    "options = Options()\n",
    "\n",
    "# Adding experimental option to keep the browser open after the script ends\n",
    "options.add_experimental_option(\"detach\", True)  \n",
    "\n",
    "# Create a Service object using the installed ChromeDriver\n",
    "service = Service(ChromeDriverManager().install())\n",
    "\n",
    "# Initialize the Chrome WebDriver with the Service object and Options\n",
    "driver = webdriver.Chrome(service=service, options=options)\n",
    " \n",
    "#Import time\n",
    "import time\n",
    "\n",
    "# Open the specified URL in the browser\n",
    "driver.get(\"https://rahulshettyacademy.com/AutomationPractice/\")  \n"
   ]
  },
  {
   "cell_type": "code",
   "execution_count": 2,
   "id": "8b00c3e3-dfe1-43bd-b077-a119c41fa37e",
   "metadata": {},
   "outputs": [
    {
     "name": "stdout",
     "output_type": "stream",
     "text": [
      "['C5A1D117CCCA7D0318C2D93A3AB37944']\n",
      "**********************\n"
     ]
    }
   ],
   "source": [
    "print(driver.window_handles)\n",
    "print('**********************')"
   ]
  },
  {
   "cell_type": "code",
   "execution_count": 3,
   "id": "f482acfb-5235-46b2-b626-80c5f26dae58",
   "metadata": {},
   "outputs": [],
   "source": [
    "driver.find_element(By.ID,\"openwindow\").click()\n",
    "time.sleep(2)"
   ]
  },
  {
   "cell_type": "code",
   "execution_count": 4,
   "id": "97399224-8d66-446a-a100-02777710dec4",
   "metadata": {},
   "outputs": [
    {
     "name": "stdout",
     "output_type": "stream",
     "text": [
      "['C5A1D117CCCA7D0318C2D93A3AB37944', 'A096CD3881255503DD5163A8BF8831A3']\n",
      "**********************\n"
     ]
    }
   ],
   "source": [
    "print(driver.window_handles)\n",
    "print('**********************')"
   ]
  },
  {
   "cell_type": "code",
   "execution_count": 5,
   "id": "98379fef-73b5-48fc-b983-e18700add0c9",
   "metadata": {},
   "outputs": [],
   "source": [
    "driver.find_element(By.ID,\"opentab\").click()"
   ]
  },
  {
   "cell_type": "code",
   "execution_count": 6,
   "id": "6a33d3c0-e7be-421e-8ee0-59ecaafcb990",
   "metadata": {},
   "outputs": [],
   "source": [
    "time.sleep(2)"
   ]
  },
  {
   "cell_type": "code",
   "execution_count": 7,
   "id": "a7ced7e5-b5f3-428d-9d76-e5f9c4c4a863",
   "metadata": {},
   "outputs": [
    {
     "name": "stdout",
     "output_type": "stream",
     "text": [
      "['C5A1D117CCCA7D0318C2D93A3AB37944', 'A096CD3881255503DD5163A8BF8831A3', 'B9B154A0D0D100C7F049916D4F638B1A']\n",
      "**********************\n"
     ]
    }
   ],
   "source": [
    "print(driver.window_handles)\n",
    "print('**********************')"
   ]
  },
  {
   "cell_type": "code",
   "execution_count": 8,
   "id": "44f4fe99-40ab-4efa-8495-7a6d0fa296fe",
   "metadata": {},
   "outputs": [],
   "source": [
    "driver.switch_to.window(driver.window_handles[1])"
   ]
  },
  {
   "cell_type": "code",
   "execution_count": 9,
   "id": "27f4ec2c-bc63-428a-8117-c75ee52d97c2",
   "metadata": {},
   "outputs": [],
   "source": [
    "# driver.find_element(By.XPATH , \"(//div[@id]//a[contains(@href,'/blog')])\").click()"
   ]
  },
  {
   "cell_type": "code",
   "execution_count": 10,
   "id": "aca03b4a-8602-4a55-9d7b-b817a82ceca7",
   "metadata": {},
   "outputs": [],
   "source": [
    "driver.find_element(By.XPATH,\"(//div[@id='navbarSupportedContent']//a)[3]\").click()"
   ]
  }
 ],
 "metadata": {
  "kernelspec": {
   "display_name": "Python 3 (ipykernel)",
   "language": "python",
   "name": "python3"
  },
  "language_info": {
   "codemirror_mode": {
    "name": "ipython",
    "version": 3
   },
   "file_extension": ".py",
   "mimetype": "text/x-python",
   "name": "python",
   "nbconvert_exporter": "python",
   "pygments_lexer": "ipython3",
   "version": "3.12.4"
  }
 },
 "nbformat": 4,
 "nbformat_minor": 5
}
