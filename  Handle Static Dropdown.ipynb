{
 "cells": [
  {
   "cell_type": "code",
   "execution_count": 1,
   "id": "09718bad-d2f2-46ce-a7c1-d3e33b6511cd",
   "metadata": {},
   "outputs": [],
   "source": [
    "# Importing webdriver module from Selenium\n",
    "from selenium import webdriver\n",
    "\n",
    "# Importing Service class from chrome service module\n",
    "from selenium.webdriver.chrome.service import Service  \n",
    "\n",
    "# Importing ChromeDriverManager module from webdriver_manager.chrome\n",
    "from webdriver_manager.chrome import ChromeDriverManager  \n",
    "\n",
    " # Importing By class from Selenium webdriver.common module\n",
    "from selenium.webdriver.common.by import By \n",
    "\n",
    "# Importing Options class from Selenium webdriver.chrome module\n",
    "from selenium.webdriver.chrome.options import Options \n",
    "\n",
    "options = Options()\n",
    "\n",
    "# Adding experimental option to keep the browser open after the script ends\n",
    "options.add_experimental_option(\"detach\", True)  \n",
    "\n",
    "# Create a Service object using the installed ChromeDriver\n",
    "service = Service(ChromeDriverManager().install())\n",
    "\n",
    "# Initialize the Chrome WebDriver with the Service object and Options\n",
    "driver = webdriver.Chrome(service=service, options=options)\n",
    "\n",
    "# Open the specified URL in the browser\n",
    "driver.get(\"https://rahulshettyacademy.com/AutomationPractice/\")  \n"
   ]
  },
  {
   "cell_type": "code",
   "execution_count": 9,
   "id": "797f5075-93d1-4a15-b583-26badeee5286",
   "metadata": {},
   "outputs": [],
   "source": [
    "static_dropdown = driver.find_element(By.ID, \"dropdown-class-example\")"
   ]
  },
  {
   "cell_type": "code",
   "execution_count": 15,
   "id": "8d551c58-ac53-420e-8f7e-c368b2a5f9c3",
   "metadata": {},
   "outputs": [],
   "source": [
    "from selenium.webdriver.support.ui import Select"
   ]
  },
  {
   "cell_type": "code",
   "execution_count": 31,
   "id": "81e312c4-57cf-47a4-9e34-b122ad29758c",
   "metadata": {},
   "outputs": [],
   "source": [
    "import time"
   ]
  },
  {
   "cell_type": "code",
   "execution_count": 33,
   "id": "c7c8ca3c-75a0-46b9-a8d1-d03bce7a4341",
   "metadata": {},
   "outputs": [],
   "source": [
    "select = Select(static_dropdown)"
   ]
  },
  {
   "cell_type": "code",
   "execution_count": 35,
   "id": "d1fedc1e-8d3a-4f8a-bc3c-2b59fb2337dc",
   "metadata": {},
   "outputs": [],
   "source": [
    "select.select_by_index(3)"
   ]
  },
  {
   "cell_type": "code",
   "execution_count": 37,
   "id": "74330ec8-1ff8-40ea-81ba-6b7d0b5805fd",
   "metadata": {},
   "outputs": [],
   "source": [
    "time.sleep(2)"
   ]
  },
  {
   "cell_type": "code",
   "execution_count": 39,
   "id": "ecdaed7f-1566-4949-833c-acfd6f685845",
   "metadata": {},
   "outputs": [],
   "source": [
    "select.select_by_visible_text(\"Option2\")"
   ]
  },
  {
   "cell_type": "code",
   "execution_count": 41,
   "id": "0732b8c1-fc99-4db6-ae13-a5d119d860e2",
   "metadata": {},
   "outputs": [],
   "source": [
    "time.sleep(2)"
   ]
  },
  {
   "cell_type": "code",
   "execution_count": 42,
   "id": "8c5c89d3-4388-4689-9e32-e037defe2ae7",
   "metadata": {},
   "outputs": [],
   "source": [
    "select.select_by_value(\"option3\")"
   ]
  },
  {
   "cell_type": "code",
   "execution_count": 55,
   "id": "d10926e9-4814-4201-82f4-c9aec56b0b9f",
   "metadata": {},
   "outputs": [],
   "source": [
    "static_dropdown_option2 = driver.find_element(By.XPATH, \"//option[@value='option2']\")"
   ]
  },
  {
   "cell_type": "code",
   "execution_count": 57,
   "id": "21ae1a6a-3bc1-4c87-bf4f-e82219f8d32b",
   "metadata": {},
   "outputs": [],
   "source": [
    "static_dropdown_option2.click()"
   ]
  }
 ],
 "metadata": {
  "kernelspec": {
   "display_name": "Python 3 (ipykernel)",
   "language": "python",
   "name": "python3"
  },
  "language_info": {
   "codemirror_mode": {
    "name": "ipython",
    "version": 3
   },
   "file_extension": ".py",
   "mimetype": "text/x-python",
   "name": "python",
   "nbconvert_exporter": "python",
   "pygments_lexer": "ipython3",
   "version": "3.12.4"
  }
 },
 "nbformat": 4,
 "nbformat_minor": 5
}
